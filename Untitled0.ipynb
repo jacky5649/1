{
  "nbformat": 4,
  "nbformat_minor": 0,
  "metadata": {
    "colab": {
      "provenance": [],
      "authorship_tag": "ABX9TyOblBtBuuFe5j/jyuJaulQv",
      "include_colab_link": true
    },
    "kernelspec": {
      "name": "python3",
      "display_name": "Python 3"
    },
    "language_info": {
      "name": "python"
    }
  },
  "cells": [
    {
      "cell_type": "markdown",
      "metadata": {
        "id": "view-in-github",
        "colab_type": "text"
      },
      "source": [
        "<a href=\"https://colab.research.google.com/github/jacky5649/Google-Colab-/blob/main/Untitled0.ipynb\" target=\"_parent\"><img src=\"https://colab.research.google.com/assets/colab-badge.svg\" alt=\"Open In Colab\"/></a>"
      ]
    },
    {
      "cell_type": "code",
      "execution_count": 1,
      "metadata": {
        "colab": {
          "base_uri": "https://localhost:8080/"
        },
        "id": "fSUSoOPw7Hhu",
        "outputId": "13424e02-e706-4d00-f6eb-e33dde428c03"
      },
      "outputs": [
        {
          "output_type": "stream",
          "name": "stdout",
          "text": [
            "Mounted at /content/drive/\n"
          ]
        }
      ],
      "source": [
        "from google.colab import drive\n",
        "drive.mount('/content/drive/')"
      ]
    },
    {
      "cell_type": "code",
      "source": [
        "!ls"
      ],
      "metadata": {
        "colab": {
          "base_uri": "https://localhost:8080/"
        },
        "id": "7KFMwtkp8hvd",
        "outputId": "b245862f-1de6-4ead-992d-e78c92158856"
      },
      "execution_count": 6,
      "outputs": [
        {
          "output_type": "stream",
          "name": "stdout",
          "text": [
            "Untitled0.ipynb  Word.docx\n"
          ]
        }
      ]
    },
    {
      "cell_type": "code",
      "source": [
        "import os\n",
        "os.chdir(\"drive/My Drive/test\")"
      ],
      "metadata": {
        "id": "w7mEyoJq9CtK"
      },
      "execution_count": 3,
      "outputs": []
    },
    {
      "cell_type": "code",
      "source": [
        "!ls"
      ],
      "metadata": {
        "colab": {
          "base_uri": "https://localhost:8080/"
        },
        "id": "jEFRfPyy9irT",
        "outputId": "a2fa62b7-142f-41c8-c6f5-4de57e8f57d0"
      },
      "execution_count": 4,
      "outputs": [
        {
          "output_type": "stream",
          "name": "stdout",
          "text": [
            "Untitled0.ipynb  Word.docx\n"
          ]
        }
      ]
    },
    {
      "cell_type": "code",
      "source": [
        "!python Untitled0.ipynb  Word.docx"
      ],
      "metadata": {
        "colab": {
          "base_uri": "https://localhost:8080/"
        },
        "id": "G-hAOwUt9xpm",
        "outputId": "d9914f55-5948-4aa3-dc26-732553d8081d"
      },
      "execution_count": 5,
      "outputs": [
        {
          "output_type": "stream",
          "name": "stdout",
          "text": [
            "Traceback (most recent call last):\n",
            "  File \"/content/drive/MyDrive/test/Untitled0.ipynb\", line 1, in <module>\n",
            "    {\"nbformat\":4,\"nbformat_minor\":0,\"metadata\":{\"colab\":{\"provenance\":[],\"authorship_tag\":\"ABX9TyNdi7CG2vbIE6AdbqQxeltg\"},\"kernelspec\":{\"name\":\"python3\",\"display_name\":\"Python 3\"},\"language_info\":{\"name\":\"python\"}},\"cells\":[{\"cell_type\":\"code\",\"execution_count\":1,\"metadata\":{\"colab\":{\"base_uri\":\"https://localhost:8080/\"},\"id\":\"fSUSoOPw7Hhu\",\"executionInfo\":{\"status\":\"ok\",\"timestamp\":1729243451631,\"user_tz\":-480,\"elapsed\":42777,\"user\":{\"displayName\":\"00 0\",\"userId\":\"17690541386103304584\"}},\"outputId\":\"13424e02-e706-4d00-f6eb-e33dde428c03\"},\"outputs\":[{\"output_type\":\"stream\",\"name\":\"stdout\",\"text\":[\"Mounted at /content/drive/\\n\"]}],\"source\":[\"from google.colab import drive\\n\",\"drive.mount('/content/drive/')\"]},{\"cell_type\":\"code\",\"source\":[\"!ls\"],\"metadata\":{\"colab\":{\"base_uri\":\"https://localhost:8080/\"},\"id\":\"7KFMwtkp8hvd\",\"executionInfo\":{\"status\":\"ok\",\"timestamp\":1729243645872,\"user_tz\":-480,\"elapsed\":7,\"user\":{\"displayName\":\"00 0\",\"userId\":\"17690541386103304584\"}},\"outputId\":\"7346af8b-7ca2-4159-f846-c15730bdfbda\"},\"execution_count\":2,\"outputs\":[{\"output_type\":\"stream\",\"name\":\"stdout\",\"text\":[\"drive  sample_data\\n\"]}]},{\"cell_type\":\"code\",\"source\":[\"import os\\n\",\"os.chdir(\\\"drive/My Drive/test\\\")\"],\"metadata\":{\"id\":\"w7mEyoJq9CtK\",\"executionInfo\":{\"status\":\"ok\",\"timestamp\":1729243770573,\"user_tz\":-480,\"elapsed\":327,\"user\":{\"displayName\":\"00 0\",\"userId\":\"17690541386103304584\"}}},\"execution_count\":3,\"outputs\":[]},{\"cell_type\":\"code\",\"source\":[\"!ls\"],\"metadata\":{\"colab\":{\"base_uri\":\"https://localhost:8080/\"},\"id\":\"jEFRfPyy9irT\",\"executionInfo\":{\"status\":\"ok\",\"timestamp\":1729243803562,\"user_tz\":-480,\"elapsed\":321,\"user\":{\"displayName\":\"00 0\",\"userId\":\"17690541386103304584\"}},\"outputId\":\"a2fa62b7-142f-41c8-c6f5-4de57e8f57d0\"},\"execution_count\":4,\"outputs\":[{\"output_type\":\"stream\",\"name\":\"stdout\",\"text\":[\"Untitled0.ipynb  Word.docx\\n\"]}]},{\"cell_type\":\"code\",\"source\":[],\"metadata\":{\"id\":\"G-hAOwUt9xpm\"},\"execution_count\":null,\"outputs\":[]}]}\n",
            "NameError: name 'null' is not defined\n"
          ]
        }
      ]
    }
  ]
}